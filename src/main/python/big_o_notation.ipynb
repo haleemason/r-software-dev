{
 "cells": [
  {
   "cell_type": "markdown",
   "metadata": {},
   "source": [
    "## Big O Notation\n",
    "Big O notation is the shorthand representation of the most complex part of set of operations in the context of time or space.\n",
    "\n",
    "O stands for Order. Order of Magnitude.\n",
    "\n",
    "| Name | Big O |\n",
    "| --- | --- |\n",
    "|Constant|O(c)|\n",
    "|Linear|O(n)|\n",
    "|Quadratic|O(n^2)|\n",
    "|Cubic|O(n^3)|\n",
    "|Exponential|O(2^n)|\n",
    "|Logarithmic|O(log(n))|\n",
    "|Log Linear|O(nlog(n))|\n",
    "\n",
    "\n",
    "### Constant: `O(c)`\n",
    "\n",
    "An algorithm is said to be constant if the steps required to complete the execution of an algorithm remain constant, irrespective of the numbver of inputs."
   ]
  },
  {
   "cell_type": "code",
   "execution_count": 2,
   "metadata": {},
   "outputs": [
    {
     "name": "stdout",
     "output_type": "stream",
     "text": [
      "4\n"
     ]
    }
   ],
   "source": [
    "# Constant Complexity O(c)\n",
    "def constant_algorithm(items):\n",
    "    \"\"\"he algorithm performs only 2 steps: Finds the square of \n",
    "    the first element and printing the result on the screen\"\"\"\n",
    "    result = items[0] * items[0]\n",
    "    print(result)\n",
    "    \n",
    "constant_algorithm([2, 4, 5, 6, 8])"
   ]
  },
  {
   "cell_type": "code",
   "execution_count": 4,
   "metadata": {},
   "outputs": [
    {
     "data": {
      "image/png": "[encoded data removed]",
      "text/plain": [
       "<Figure size 432x288 with 1 Axes>"
      ]
     },
     "metadata": {
      "needs_background": "light"
     },
     "output_type": "display_data"
    }
   ],
   "source": [
    "import matplotlib.pyplot as plt  \n",
    "import numpy as np\n",
    "\n",
    "x = [2, 4, 6, 8, 10, 12]\n",
    "y = [2, 2, 2, 2, 2, 2]\n",
    "\n",
    "plt.plot(x, y, 'b')  \n",
    "plt.xlabel('Inputs')  \n",
    "plt.ylabel('Steps')  \n",
    "plt.title('Constant Complexity')  \n",
    "plt.show()"
   ]
  },
  {
   "cell_type": "markdown",
   "metadata": {},
   "source": [
    "### Linear Complexity `(O(n))`\n",
    "\n",
    "If the steps required to complete the execution of an algorithm increase or decrease linearly with the number of inptuts."
   ]
  },
  {
   "cell_type": "code",
   "execution_count": 6,
   "metadata": {},
   "outputs": [
    {
     "name": "stdout",
     "output_type": "stream",
     "text": [
      "4\n",
      "5\n",
      "6\n",
      "8\n"
     ]
    }
   ],
   "source": [
    "def linear_algorithm(items):\n",
    "    for item in items:\n",
    "        print(item)\n",
    "        \n",
    "linear_algorithm([4, 5, 6, 8])  "
   ]
  },
  {
   "cell_type": "code",
   "execution_count": 7,
   "metadata": {},
   "outputs": [
    {
     "name": "stdout",
     "output_type": "stream",
     "text": [
      "4\n",
      "5\n",
      "6\n",
      "8\n",
      "4\n",
      "5\n",
      "6\n",
      "8\n"
     ]
    }
   ],
   "source": [
    "def linear_algo(items):  \n",
    "    for item in items:\n",
    "        print(item)\n",
    "\n",
    "    for item in items:\n",
    "        print(item)\n",
    "        \n",
    "linear_algo([4, 5, 6, 8])  "
   ]
  },
  {
   "cell_type": "markdown",
   "metadata": {},
   "source": [
    "### Quadratic Complexity: `(O(n^2))`\n",
    "\n",
    "When the steps required to execute an algorithm are a quadratic function of the number of items in the input. "
   ]
  },
  {
   "cell_type": "code",
   "execution_count": 11,
   "metadata": {},
   "outputs": [
    {
     "name": "stdout",
     "output_type": "stream",
     "text": [
      "4   4\n",
      "4   4\n",
      "4   4\n",
      "4   4\n",
      "5   5\n",
      "5   5\n",
      "5   5\n",
      "5   5\n",
      "6   6\n",
      "6   6\n",
      "6   6\n",
      "6   6\n",
      "8   8\n",
      "8   8\n",
      "8   8\n",
      "8   8\n"
     ]
    }
   ],
   "source": [
    "def quadratic_algorithm(items):\n",
    "    \"\"\"Outer loop that iterates through all the items in the input list and then a \n",
    "    nested inner loop, which again iterates through all the items in the input list.\"\"\"\n",
    "    for item in items:\n",
    "        for item2 in items:\n",
    "            print(item, ' ' , item)\n",
    "            \n",
    "quadratic_algorithm([4, 5, 6, 8])         "
   ]
  },
  {
   "cell_type": "code",
   "execution_count": 12,
   "metadata": {},
   "outputs": [
    {
     "name": "stdout",
     "output_type": "stream",
     "text": [
      "Python is awesome\n",
      "Python is awesome\n",
      "Python is awesome\n",
      "Python is awesome\n",
      "Python is awesome\n",
      "4\n",
      "5\n",
      "6\n",
      "8\n",
      "4\n",
      "5\n",
      "6\n",
      "8\n",
      "Big O\n",
      "Big O\n",
      "Big O\n"
     ]
    }
   ],
   "source": [
    "def complex_algo(items):\n",
    "\n",
    "    for i in range(5):\n",
    "        print (\"Python is awesome\")\n",
    "\n",
    "    for item in items:\n",
    "        print(item)\n",
    "\n",
    "    for item in items:\n",
    "        print(item)\n",
    "\n",
    "    print(\"Big O\")\n",
    "    print(\"Big O\")\n",
    "    print(\"Big O\")\n",
    "\n",
    "complex_algo([4, 5, 6, 8])  "
   ]
  },
  {
   "cell_type": "markdown",
   "metadata": {},
   "source": [
    "To find the overall complexity, we simply have to add these individual complexities. \n",
    "\n",
    "Let's do so: `O(5) + O(n) + O(n) + O(3)`\n",
    "\n",
    "Simplifying above we get: `O(8) + O(2n)`"
   ]
  },
  {
   "cell_type": "code",
   "execution_count": 14,
   "metadata": {},
   "outputs": [
    {
     "name": "stdout",
     "output_type": "stream",
     "text": [
      "True\n"
     ]
    }
   ],
   "source": [
    "def search_algo(num, items):  \n",
    "    for item in items:\n",
    "        if item == num:\n",
    "            return True\n",
    "        else:\n",
    "            return False\n",
    "\n",
    "nums = [2, 4, 6, 8, 10]\n",
    "print(search_algo(2, nums))  "
   ]
  },
  {
   "cell_type": "code",
   "execution_count": null,
   "metadata": {},
   "outputs": [],
   "source": []
  },
  {
   "cell_type": "code",
   "execution_count": null,
   "metadata": {},
   "outputs": [],
   "source": []
  },
  {
   "cell_type": "code",
   "execution_count": null,
   "metadata": {},
   "outputs": [],
   "source": []
  },
  {
   "cell_type": "code",
   "execution_count": null,
   "metadata": {},
   "outputs": [],
   "source": []
  }
 ],
 "metadata": {
  "kernelspec": {
   "display_name": "Python 3",
   "language": "python",
   "name": "python3"
  },
  "language_info": {
   "codemirror_mode": {
    "name": "ipython",
    "version": 3
   },
   "file_extension": ".py",
   "mimetype": "text/x-python",
   "name": "python",
   "nbconvert_exporter": "python",
   "pygments_lexer": "ipython3",
   "version": "3.7.1"
  }
 },
 "nbformat": 4,
 "nbformat_minor": 2
}
